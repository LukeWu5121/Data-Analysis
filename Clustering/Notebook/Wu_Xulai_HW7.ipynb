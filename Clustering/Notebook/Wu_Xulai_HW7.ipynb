{
 "cells": [
  {
   "cell_type": "markdown",
   "id": "13437a0f",
   "metadata": {},
   "source": [
    "# HW7"
   ]
  },
  {
   "cell_type": "markdown",
   "id": "ee7a1ca2",
   "metadata": {},
   "source": [
    "Name: Xulai Wu <br>\n",
    "Github Username: LukeWu5121 <br>\n",
    "USC ID: 6591102106"
   ]
  },
  {
   "cell_type": "code",
   "execution_count": 25,
   "id": "350fbecc",
   "metadata": {},
   "outputs": [],
   "source": [
    "import pandas as pd\n",
    "import numpy as np\n",
    "\n",
    "from sklearn.model_selection import train_test_split\n",
    "from sklearn.metrics import hamming_loss\n",
    "from sklearn.svm import SVC\n",
    "from sklearn.multiclass import OneVsRestClassifier\n",
    "from sklearn.model_selection import GridSearchCV\n",
    "from sklearn.pipeline import make_pipeline\n",
    "from sklearn.preprocessing import StandardScaler, LabelEncoder\n",
    "from sklearn.svm import LinearSVC\n",
    "from imblearn.over_sampling import SMOTE\n",
    "from imblearn.pipeline import Pipeline  \n",
    "from sklearn.cluster import KMeans\n",
    "from sklearn.metrics import pairwise_distances\n",
    "from scipy.stats import mode\n",
    "from sklearn.metrics import calinski_harabasz_score\n"
   ]
  },
  {
   "cell_type": "markdown",
   "id": "5eba98d4",
   "metadata": {},
   "source": [
    "## 1. Multi-class and Multi-Label Classification Using Support Vector Machines"
   ]
  },
  {
   "cell_type": "markdown",
   "id": "933f1e05",
   "metadata": {},
   "source": [
    "### a."
   ]
  },
  {
   "cell_type": "code",
   "execution_count": 26,
   "id": "33c03e3c",
   "metadata": {},
   "outputs": [
    {
     "name": "stdout",
     "output_type": "stream",
     "text": [
      "Index(['MFCCs_ 1', 'MFCCs_ 2', 'MFCCs_ 3', 'MFCCs_ 4', 'MFCCs_ 5', 'MFCCs_ 6',\n",
      "       'MFCCs_ 7', 'MFCCs_ 8', 'MFCCs_ 9', 'MFCCs_10', 'MFCCs_11', 'MFCCs_12',\n",
      "       'MFCCs_13', 'MFCCs_14', 'MFCCs_15', 'MFCCs_16', 'MFCCs_17', 'MFCCs_18',\n",
      "       'MFCCs_19', 'MFCCs_20', 'MFCCs_21', 'MFCCs_22', 'Family', 'Genus',\n",
      "       'Species', 'RecordID'],\n",
      "      dtype='object')\n"
     ]
    }
   ],
   "source": [
    "df = pd.read_csv('../Data/Frogs_MFCCs.csv')\n",
    "print(df.columns)\n",
    "\n",
    "label_cols = ['Family', 'Genus', 'Species']\n",
    "x = df.drop(columns=label_cols)\n",
    "y = df[label_cols]\n",
    "\n",
    "x_train, x_test, y_train, y_test = train_test_split(x, y, test_size=0.3, random_state=42, stratify=y['Family'])"
   ]
  },
  {
   "cell_type": "markdown",
   "id": "07606c17",
   "metadata": {},
   "source": [
    "### b."
   ]
  },
  {
   "cell_type": "markdown",
   "id": "fdb4c9ea",
   "metadata": {},
   "source": [
    "### i)."
   ]
  },
  {
   "cell_type": "code",
   "execution_count": 27,
   "id": "7eba9e5e",
   "metadata": {},
   "outputs": [],
   "source": [
    "def hamming_score(y_true, y_pred):\n",
    "    return (y_true == y_pred).sum().sum() / (y_true.shape[0] * y_true.shape[1])\n",
    "\n",
    "def exact_match_score(y_true, y_pred):\n",
    "    return (y_true == y_pred).all(axis=1).mean()\n",
    "\n",
    "def hamming_loss_custom(y_true, y_pred):\n",
    "    return 1 - hamming_score(y_true, y_pred)\n"
   ]
  },
  {
   "cell_type": "markdown",
   "id": "fcd4262d",
   "metadata": {},
   "source": [
    "### ii)."
   ]
  },
  {
   "cell_type": "code",
   "execution_count": 42,
   "id": "f46d3f8b",
   "metadata": {},
   "outputs": [
    {
     "name": "stdout",
     "output_type": "stream",
     "text": [
      "\n",
      "Training for label: Family\n",
      "RBF SVM - Best C for Family: 100\n",
      "RBF SVM - Best gamma for Family: 0.1\n",
      "\n",
      "Training for label: Genus\n",
      "RBF SVM - Best C for Genus: 10\n",
      "RBF SVM - Best gamma for Genus: 0.1\n",
      "\n",
      "Training for label: Species\n",
      "RBF SVM - Best C for Species: 10\n",
      "RBF SVM - Best gamma for Species: 0.1\n"
     ]
    }
   ],
   "source": [
    "svm_models = {}\n",
    "label_encoders = {}\n",
    "param_grid = {\n",
    "    'estimator__C': [1e-1, 1, 10, 100],\n",
    "    #param_grid = [0.1, 1, 10] [0.1, 1]\n",
    "    'estimator__gamma': [0.1, 0.5, 1]\n",
    "}\n",
    "\n",
    "for label in ['Family', 'Genus', 'Species']:\n",
    "    print(f\"\\nTraining for label: {label}\")\n",
    "    \n",
    "    le = LabelEncoder()\n",
    "    y_train_encoded = le.fit_transform(y_train[label])\n",
    "    y_test_encoded = le.transform(y_test[label])\n",
    "    label_encoders[label] = le\n",
    "\n",
    "    model = make_pipeline(\n",
    "        StandardScaler(),\n",
    "        GridSearchCV(\n",
    "            OneVsRestClassifier(SVC(kernel='rbf')),\n",
    "            param_grid=param_grid,\n",
    "            cv=10,\n",
    "            scoring='accuracy',\n",
    "            n_jobs=-1\n",
    "        )\n",
    "    )\n",
    "\n",
    "    model.fit(x_train, y_train_encoded)\n",
    "    best_c = model.named_steps['gridsearchcv'].best_params_['estimator__C']\n",
    "    best_gamma = model.named_steps['gridsearchcv'].best_params_['estimator__gamma']\n",
    "    print(f\"RBF SVM - Best C for {label}: {best_c}\")\n",
    "    print(f\"RBF SVM - Best gamma for {label}: {best_gamma}\")\n",
    "    \n",
    "    svm_models[label] = model\n"
   ]
  },
  {
   "cell_type": "code",
   "execution_count": 43,
   "id": "3deb4fd8",
   "metadata": {},
   "outputs": [
    {
     "name": "stdout",
     "output_type": "stream",
     "text": [
      "Exact Match: 0.9893469198703103\n",
      "Hamming Score: 0.9922803767176162\n",
      "Hamming Loss: 0.007719623282383847\n"
     ]
    }
   ],
   "source": [
    "y_pred = pd.DataFrame(index=y_test.index)\n",
    "\n",
    "for label in ['Family', 'Genus', 'Species']:\n",
    "    model = svm_models[label]\n",
    "    le = label_encoders[label]\n",
    "    y_pred[label] = le.inverse_transform(model.predict(x_test))\n",
    "    \n",
    "print(\"Exact Match:\", exact_match_score(y_test, y_pred))\n",
    "print(\"Hamming Score:\", hamming_score(y_test, y_pred))\n",
    "print(\"Hamming Loss:\", hamming_loss_custom(y_test, y_pred))  "
   ]
  },
  {
   "cell_type": "markdown",
   "id": "070ee263",
   "metadata": {},
   "source": [
    "### iii)."
   ]
  },
  {
   "cell_type": "code",
   "execution_count": 30,
   "id": "7c880bc4",
   "metadata": {},
   "outputs": [
    {
     "name": "stdout",
     "output_type": "stream",
     "text": [
      "\n",
      "Training L1-penalized SVM for label: Family\n"
     ]
    },
    {
     "name": "stderr",
     "output_type": "stream",
     "text": [
      "C:\\Users\\wuxul\\AppData\\Local\\Packages\\PythonSoftwareFoundation.Python.3.11_qbz5n2kfra8p0\\LocalCache\\local-packages\\Python311\\site-packages\\sklearn\\svm\\_base.py:1235: ConvergenceWarning: Liblinear failed to converge, increase the number of iterations.\n",
      "  warnings.warn(\n"
     ]
    },
    {
     "name": "stdout",
     "output_type": "stream",
     "text": [
      "L1 SVM - Best C for Family: 100\n",
      "\n",
      "Training L1-penalized SVM for label: Genus\n"
     ]
    },
    {
     "name": "stderr",
     "output_type": "stream",
     "text": [
      "C:\\Users\\wuxul\\AppData\\Local\\Packages\\PythonSoftwareFoundation.Python.3.11_qbz5n2kfra8p0\\LocalCache\\local-packages\\Python311\\site-packages\\sklearn\\svm\\_base.py:1235: ConvergenceWarning: Liblinear failed to converge, increase the number of iterations.\n",
      "  warnings.warn(\n",
      "C:\\Users\\wuxul\\AppData\\Local\\Packages\\PythonSoftwareFoundation.Python.3.11_qbz5n2kfra8p0\\LocalCache\\local-packages\\Python311\\site-packages\\sklearn\\svm\\_base.py:1235: ConvergenceWarning: Liblinear failed to converge, increase the number of iterations.\n",
      "  warnings.warn(\n"
     ]
    },
    {
     "name": "stdout",
     "output_type": "stream",
     "text": [
      "L1 SVM - Best C for Genus: 10\n",
      "\n",
      "Training L1-penalized SVM for label: Species\n",
      "L1 SVM - Best C for Species: 10\n"
     ]
    },
    {
     "name": "stderr",
     "output_type": "stream",
     "text": [
      "C:\\Users\\wuxul\\AppData\\Local\\Packages\\PythonSoftwareFoundation.Python.3.11_qbz5n2kfra8p0\\LocalCache\\local-packages\\Python311\\site-packages\\sklearn\\svm\\_base.py:1235: ConvergenceWarning: Liblinear failed to converge, increase the number of iterations.\n",
      "  warnings.warn(\n"
     ]
    }
   ],
   "source": [
    "param_grid_l1 = {\n",
    "    'estimator__C': [1e-1, 1, 10, 100]\n",
    "}\n",
    "\n",
    "l1_models = {}\n",
    "l1_label_encoders = {}\n",
    "\n",
    "for label in ['Family', 'Genus', 'Species']:\n",
    "    print(f\"\\nTraining L1-penalized SVM for label: {label}\")\n",
    "    le = LabelEncoder()\n",
    "    y_train_encoded = le.fit_transform(y_train[label])\n",
    "    y_test_encoded = le.transform(y_test[label])\n",
    "    l1_label_encoders[label] = le\n",
    "    \n",
    "    model = make_pipeline(\n",
    "        StandardScaler(),\n",
    "        GridSearchCV(\n",
    "            OneVsRestClassifier(\n",
    "                LinearSVC(penalty='l1', dual=False, max_iter=10000)\n",
    "            ),\n",
    "            param_grid=param_grid_l1,\n",
    "            cv=10, scoring='accuracy', n_jobs=-1\n",
    "        )\n",
    "    )\n",
    "\n",
    "    model.fit(x_train, y_train_encoded)\n",
    "    best_c = model.named_steps['gridsearchcv'].best_params_['estimator__C']\n",
    "    print(f\"L1 SVM - Best C for {label}: {best_c}\")\n",
    "    l1_models[label] = model"
   ]
  },
  {
   "cell_type": "code",
   "execution_count": 31,
   "id": "6d1ddd34",
   "metadata": {},
   "outputs": [
    {
     "name": "stdout",
     "output_type": "stream",
     "text": [
      "L1-SVM Exact Match: 0.9546086150995832\n",
      "L1-SVM Hamming Score: 0.9797745870001544\n",
      "L1-SVM Hamming Loss: 0.020225412999845593\n"
     ]
    }
   ],
   "source": [
    "l1_pred = pd.DataFrame(index=y_test.index)\n",
    "\n",
    "for label in ['Family', 'Genus', 'Species']:\n",
    "    model = l1_models[label]\n",
    "    le = l1_label_encoders[label]\n",
    "    l1_pred[label] = le.inverse_transform(model.predict(x_test))\n",
    "    \n",
    "print(\"L1-SVM Exact Match:\", exact_match_score(y_test, l1_pred))\n",
    "print(\"L1-SVM Hamming Score:\", hamming_score(y_test, l1_pred))\n",
    "print(\"L1-SVM Hamming Loss:\", hamming_loss_custom(y_test, l1_pred))"
   ]
  },
  {
   "cell_type": "markdown",
   "id": "a5166566",
   "metadata": {},
   "source": [
    "### iv)."
   ]
  },
  {
   "cell_type": "code",
   "execution_count": 37,
   "id": "6989d6a2",
   "metadata": {},
   "outputs": [
    {
     "name": "stdout",
     "output_type": "stream",
     "text": [
      "\n",
      "Training for label: Family\n",
      "SMOTE L1 SVM - Best C for Family: 10\n",
      "\n",
      "Training for label: Genus\n",
      "SMOTE L1 SVM - Best C for Genus: 10\n",
      "\n",
      "Training for label: Species\n"
     ]
    },
    {
     "name": "stderr",
     "output_type": "stream",
     "text": [
      "C:\\Users\\wuxul\\AppData\\Local\\Packages\\PythonSoftwareFoundation.Python.3.11_qbz5n2kfra8p0\\LocalCache\\local-packages\\Python311\\site-packages\\sklearn\\svm\\_base.py:1235: ConvergenceWarning: Liblinear failed to converge, increase the number of iterations.\n",
      "  warnings.warn(\n"
     ]
    },
    {
     "name": "stdout",
     "output_type": "stream",
     "text": [
      "SMOTE L1 SVM - Best C for Species: 10\n"
     ]
    }
   ],
   "source": [
    "param_grid_l1_1 = {\n",
    "    'estimator__C': [1e-1, 1, 10]\n",
    "}\n",
    "\n",
    "smote_models = {}\n",
    "smote_label_encoders = {}\n",
    "\n",
    "for label in ['Family', 'Genus', 'Species']:\n",
    "    print(f\"\\nTraining for label: {label}\")\n",
    "    \n",
    "    le = LabelEncoder()\n",
    "    y_train_encoded = le.fit_transform(y_train[label])\n",
    "    y_test_encoded = le.transform(y_test[label])\n",
    "    smote_label_encoders[label] = le\n",
    "\n",
    "    smote = SMOTE(random_state=42)\n",
    "\n",
    "    pipe = Pipeline([\n",
    "        ('smote', smote),\n",
    "        ('scaler', StandardScaler()),\n",
    "        ('classifier', GridSearchCV(\n",
    "            OneVsRestClassifier(LinearSVC(penalty='l1', dual=False, max_iter=10000)),\n",
    "            param_grid=param_grid_l1_1,\n",
    "            cv=10, scoring='accuracy', n_jobs=-1\n",
    "        ))\n",
    "    ])\n",
    "\n",
    "    pipe.fit(x_train, y_train_encoded)\n",
    "    best_c = pipe.named_steps['classifier'].best_params_['estimator__C']\n",
    "    print(f\"SMOTE L1 SVM - Best C for {label}: {best_c}\")\n",
    "    smote_models[label] = pipe"
   ]
  },
  {
   "cell_type": "code",
   "execution_count": 33,
   "id": "f7a35794",
   "metadata": {},
   "outputs": [
    {
     "name": "stdout",
     "output_type": "stream",
     "text": [
      "SMOTE Exact Match: 0.9421028253821213\n",
      "SMOTE Hamming Score: 0.974679635633781\n",
      "SMOTE Hamming Loss: 0.025320364366218984\n"
     ]
    }
   ],
   "source": [
    "smote_pred = pd.DataFrame(index=y_test.index)\n",
    "\n",
    "for label in ['Family', 'Genus', 'Species']:\n",
    "    model = smote_models[label]\n",
    "    le = smote_label_encoders[label]\n",
    "    smote_pred[label] = le.inverse_transform(model.predict(x_test))\n",
    "\n",
    "print(\"SMOTE Exact Match:\", exact_match_score(y_test, smote_pred))\n",
    "print(\"SMOTE Hamming Score:\", hamming_score(y_test, smote_pred))\n",
    "print(\"SMOTE Hamming Loss:\", hamming_loss_custom(y_test, smote_pred))\n"
   ]
  },
  {
   "cell_type": "markdown",
   "id": "da5fee47",
   "metadata": {},
   "source": [
    "#### Compare the exact match, hamming score and hamming loss, it did not improve too much."
   ]
  },
  {
   "cell_type": "markdown",
   "id": "fff64082",
   "metadata": {},
   "source": [
    "## 2. K-Means Clustering on a Multi-Class and Multi-Label Data Set Monte-Carlo Simulation "
   ]
  },
  {
   "cell_type": "code",
   "execution_count": 34,
   "id": "7d08804b",
   "metadata": {},
   "outputs": [],
   "source": [
    "df = pd.read_csv('../Data/Frogs_MFCCs.csv')\n",
    "X = df.iloc[:, :22]  # MFCC特征\n",
    "y = df[['Family', 'Genus', 'Species']]"
   ]
  },
  {
   "cell_type": "code",
   "execution_count": 38,
   "id": "a92ec3aa",
   "metadata": {},
   "outputs": [
    {
     "name": "stdout",
     "output_type": "stream",
     "text": [
      "Best k: 2\n"
     ]
    }
   ],
   "source": [
    "best_k = None\n",
    "best_score = -1\n",
    "\n",
    "for k in range(2, 51):  \n",
    "    kmeans = KMeans(n_clusters=k, random_state=42)\n",
    "    labels = kmeans.fit_predict(X)\n",
    "    score = calinski_harabasz_score(X, labels)\n",
    "    if score > best_score:\n",
    "        best_score = score\n",
    "        best_k = k\n",
    "print(\"Best k:\", best_k)\n"
   ]
  },
  {
   "cell_type": "markdown",
   "id": "05db4652",
   "metadata": {},
   "source": [
    "### b&c)."
   ]
  },
  {
   "cell_type": "code",
   "execution_count": 39,
   "id": "bc34da42",
   "metadata": {},
   "outputs": [
    {
     "name": "stdout",
     "output_type": "stream",
     "text": [
      "Avg Hamming Distance: 0.895621959694232\n",
      "Avg Hamming Score: 0.7014593467685892\n",
      "Avg Hamming Loss: 0.2985406532314107\n"
     ]
    }
   ],
   "source": [
    "cluster_labels = kmeans.labels_\n",
    "y_clustered = y.copy()\n",
    "y_clustered['cluster'] = cluster_labels\n",
    "\n",
    "def hamming_distance(y_true, y_pred):\n",
    "    return (y_true != y_pred).sum().sum() / y_true.shape[0]\n",
    "\n",
    "distances = []\n",
    "scores = []\n",
    "losses = []\n",
    "\n",
    "for i in range(50):\n",
    "    kmeans = KMeans(n_clusters=best_k, random_state=i)\n",
    "    cluster_labels = kmeans.fit_predict(X)\n",
    "    df_clustered = y.copy()\n",
    "    df_clustered['cluster'] = cluster_labels\n",
    "\n",
    "    majority_labels = df_clustered.groupby('cluster').agg(lambda x: x.mode()[0])\n",
    "    pred_labels = df_clustered['cluster'].map(majority_labels.to_dict(orient='index'))\n",
    "\n",
    "    pred_df = pd.DataFrame(list(pred_labels), index=df_clustered.index)\n",
    "    pred_df.columns = ['Family', 'Genus', 'Species']\n",
    "\n",
    "    dist = hamming_distance(y, pred_df)\n",
    "    score = hamming_score(y, pred_df)\n",
    "    loss = hamming_loss_custom(y, pred_df)\n",
    "\n",
    "    distances.append(dist)\n",
    "    scores.append(score)\n",
    "    losses.append(loss)\n",
    "\n",
    "print(\"Avg Hamming Distance:\", np.mean(distances))\n",
    "print(\"Avg Hamming Score:\", np.mean(scores))\n",
    "print(\"Avg Hamming Loss:\", np.mean(losses))"
   ]
  },
  {
   "cell_type": "markdown",
   "id": "a30fe435",
   "metadata": {},
   "source": [
    "## 3. ISLP 12.6.2"
   ]
  },
  {
   "cell_type": "markdown",
   "id": "a7093e48",
   "metadata": {},
   "source": [
    "### a)."
   ]
  },
  {
   "cell_type": "markdown",
   "id": "6b75bb44",
   "metadata": {},
   "source": [
    "```text\n",
    "        0.8\n",
    "        ├──────────────┐\n",
    "      0.3             0.45\n",
    "     ┌─┴─┐           ┌─┴─┐\n",
    "     1   2           3   4\n",
    "```"
   ]
  },
  {
   "cell_type": "markdown",
   "id": "0f0f8142",
   "metadata": {},
   "source": [
    "#### First merge 1 and 2, we have 0.3. Next one is 3 and 4 since it's 0.45(smallest). Then 0.8"
   ]
  },
  {
   "cell_type": "markdown",
   "id": "0b959148",
   "metadata": {},
   "source": [
    "### b)."
   ]
  },
  {
   "cell_type": "markdown",
   "id": "5f58d9eb",
   "metadata": {},
   "source": [
    "```text   \n",
    "   0.45 \n",
    "   ├──────────────┐ \n",
    " 0.4              4 \n",
    " ┌─┴─┐\n",
    "0.3  3\n",
    " ├───┐\n",
    " 1   2\n",
    "```"
   ]
  },
  {
   "cell_type": "markdown",
   "id": "89ec3324",
   "metadata": {},
   "source": [
    "#### 0.3 then 0.4 then 0.45"
   ]
  },
  {
   "cell_type": "markdown",
   "id": "34c9f77f",
   "metadata": {},
   "source": [
    "### c)."
   ]
  },
  {
   "cell_type": "markdown",
   "id": "42f6c792",
   "metadata": {},
   "source": [
    "#### Only [1,2] and [3,4]"
   ]
  },
  {
   "cell_type": "markdown",
   "id": "743182b8",
   "metadata": {},
   "source": [
    "### d)."
   ]
  },
  {
   "cell_type": "markdown",
   "id": "fdd7787d",
   "metadata": {},
   "source": [
    "#### [1,2,3], [4]"
   ]
  },
  {
   "cell_type": "markdown",
   "id": "9b4d1247",
   "metadata": {},
   "source": [
    "### e)."
   ]
  },
  {
   "cell_type": "markdown",
   "id": "9b3f1fcb",
   "metadata": {},
   "source": [
    "```text\n",
    "        0.8\n",
    "        ├──────────────┐\n",
    "      0.45             0.3\n",
    "     ┌─┴─┐           ┌─┴─┐\n",
    "     3   4           1   2\n",
    "```"
   ]
  },
  {
   "cell_type": "markdown",
   "id": "a849ba69",
   "metadata": {},
   "source": [
    "#### REF: <br>\n",
    "https://mmuratarat.github.io/2020-01-25/multilabel_classification_metrics"
   ]
  }
 ],
 "metadata": {
  "kernelspec": {
   "display_name": "Python 3",
   "language": "python",
   "name": "python3"
  },
  "language_info": {
   "codemirror_mode": {
    "name": "ipython",
    "version": 3
   },
   "file_extension": ".py",
   "mimetype": "text/x-python",
   "name": "python",
   "nbconvert_exporter": "python",
   "pygments_lexer": "ipython3",
   "version": "3.11.9"
  }
 },
 "nbformat": 4,
 "nbformat_minor": 5
}
